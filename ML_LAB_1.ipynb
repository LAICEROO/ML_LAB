{
  "nbformat": 4,
  "nbformat_minor": 0,
  "metadata": {
    "colab": {
      "provenance": [],
      "gpuType": "T4",
      "authorship_tag": "ABX9TyNACI0Ure29QaLm6pHktECd",
      "include_colab_link": true
    },
    "kernelspec": {
      "name": "python3",
      "display_name": "Python 3"
    },
    "language_info": {
      "name": "python"
    },
    "accelerator": "GPU"
  },
  "cells": [
    {
      "cell_type": "markdown",
      "metadata": {
        "id": "view-in-github",
        "colab_type": "text"
      },
      "source": [
        "<a href=\"https://colab.research.google.com/github/LAICEROO/ML_LAB/blob/main/ML_LAB_1.ipynb\" target=\"_parent\"><img src=\"https://colab.research.google.com/assets/colab-badge.svg\" alt=\"Open In Colab\"/></a>"
      ]
    },
    {
      "cell_type": "code",
      "source": [
        "#import potrzebnych bibliotek\n",
        "import numpy as np\n",
        "from matplotlib import pyplot as plt\n",
        "from sklearn import datasets"
      ],
      "metadata": {
        "id": "VlZSgF9k8vXK"
      },
      "execution_count": 46,
      "outputs": []
    },
    {
      "cell_type": "code",
      "source": [
        "#definicja funkcji aktywacji sigmoid(x) i jej pochodnej\n",
        "def sigmoid(x):\n",
        "  return 1/(1+np.exp(-x))\n",
        "def sigmoid_der(x):\n",
        "  return sigmoid(x)*(1-sigmoid(x))"
      ],
      "metadata": {
        "id": "_TlSEAUO8xlc"
      },
      "execution_count": 47,
      "outputs": []
    },
    {
      "cell_type": "code",
      "source": [
        "#definicja klasy (wzoru/szablonu)\n",
        "#dla warstwy neuronów z funkcja aktywacji sigmoid( wagi * wejscia + bias)\n",
        "#do latwego obliczania opdowiedzi warstwy neuronow na dane wejsciowe\n",
        "#oraz do aktualizacji wag tak aby zminimalizowac funkcje kosztu\n",
        "class Sigmoid:\n",
        "#tworzac obiekt reprezentujacy warstwe nalezy podac z ilu wejsc ma warstwa\n",
        "#odczytywac wartosci (zwykle jest to liczba wyjsc poprzedniej warstwy)\n",
        "#oraz liczbe neuronow w warstwie\n",
        "  def __init__(self, number_of_input_nodes, number_of_neurons):\n",
        "    self.weights = np.random.randn(number_of_input_nodes, number_of_neurons )\n",
        "    self.biases = np.random.randn(1,number_of_neurons)\n",
        "\n",
        "#obliczanie odpowiedzi warstwy na dane podane w input_data\n",
        "  def forward_prop(self, input_data):\n",
        "    self.orig_input = input_data\n",
        "    self.input_data = input_data #to be used in backprop\n",
        "    self.XW_B = np.dot(self.input_data, self.weights) + self.biases\n",
        "    self.output_val = sigmoid(self.XW_B)\n",
        "    return self.output_val\n",
        "\n",
        "#zmiana wag i biasow dla neuronow warstwy w kierunku powodujacym zmniejszenie\n",
        "#funkcji kosztu oraz obliczenie lancuszka pochodnych (gradientu) dla wczesniejszej warstwy\n",
        "#ktory jest potrzebny do analogicznej poprawy wartosci wag i biasow\n",
        "  def back_prop(self, gradient, learning_rate):\n",
        "\n",
        "    #pochodna funkcji aktywacji\n",
        "    layer_activation_der = sigmoid_der(self.XW_B)\n",
        "\n",
        "    #do obliczenia dJ_dweight dla warstwy wczesniejszej\n",
        "    #potrzebne sa aktualne wartosci wag aktualnej warstwy\n",
        "    dXWB__dinputs = self.weights.copy()\n",
        "\n",
        "    #obliczamy dJ_dwagi oraz DJ_dbiases dla aktualnej warstwy\n",
        "    dJ_dweights = self.input_data.T @ (gradient * layer_activation_der)\n",
        "    dJ_dbiases = np.sum((gradient * layer_activation_der),axis=0)\n",
        "\n",
        "    #zmieniamy wagi i biasy w kierunku ktory powoduje zmniejszenie funkcji kosztu J\n",
        "    #o czym mowi nam pochodna\n",
        "    self.weights -= learning_rate * dJ_dweights\n",
        "    self.biases -= learning_rate * dJ_dbiases\n",
        "\n",
        "    #obliczamy gradient_do_zwrotu (lancuch pochodnych) potrzebny\n",
        "    #do obliczenia dJ_dweights od dJ_biases przez wczesniejsza (po lewej) warstwe neuronow\n",
        "    gradient_do_zwrotu = (gradient * layer_activation_der) @ dXWB__dinputs.T\n",
        "    return gradient_do_zwrotu"
      ],
      "metadata": {
        "id": "4ax7CQdy81cs"
      },
      "execution_count": 48,
      "outputs": []
    },
    {
      "cell_type": "code",
      "source": [
        "#definicja ostatniej warstwy sieci neuronowej\n",
        "#do rozpoznania klasy obrazka \"wlozonego\" na wejscie sieci neuronowej\n",
        "#np pies lub kot\n",
        "#Warstwa ma tyle neuronow co klas do rozponania\n",
        "#Kazdy neuron zwraca prawdopodobienstwo ze obiekt na wejsciu nalezy\n",
        "#do klasy reprezentowanej przez niego\n",
        "\n",
        "class Softmax:\n",
        "  def __init__(self, input_node, softmax_node):\n",
        "    self.weight = np.random.randn(input_node, softmax_node)/input_node\n",
        "    self.bias = np.zeros(softmax_node)\n",
        "\n",
        "  def forward_prop(self, image):\n",
        "    self.orig_im_shape = image.shape #used in backprop\n",
        "    image_modified = image.flatten()\n",
        "    self.modified_input = image_modified #to be used in backprop\n",
        "    output_val = np.dot(image_modified, self.weight) + self.bias\n",
        "    self.out = output_val\n",
        "    exp_out = np.exp(output_val)\n",
        "    return exp_out/np.sum(exp_out, axis=0)\n",
        "\n",
        "  def back_prop(self, dL_dout, learning_rate):\n",
        "    for i, grad in enumerate(dL_dout):\n",
        "      if grad ==0:\n",
        "        continue\n",
        "\n",
        "      transformation_eq = np.exp(self.out)\n",
        "      S_total = np.sum(transformation_eq)\n",
        "\n",
        "      #gradients with respect to out (z)\n",
        "      dy_dz = -transformation_eq[i]*transformation_eq / (S_total **2)\n",
        "      dy_dz[i] = transformation_eq[i]*(S_total - transformation_eq[i]) / (S_total **2)\n",
        "\n",
        "      #gradients of totals against weights/biases/input\n",
        "      dz_dw = self.modified_input\n",
        "      dz_db = 1\n",
        "      dz_d_inp = self.weight\n",
        "\n",
        "      #gradients of loss against totals\n",
        "      dL_dz = grad * dy_dz\n",
        "\n",
        "      #gradients of loss against weights/biases/input\n",
        "      dL_dw = dz_dw[np.newaxis].T @ dL_dz[np.newaxis]\n",
        "      dL_db = dL_dz * dz_db\n",
        "      dL_d_inp = dz_d_inp @ dL_dz\n",
        "\n",
        "    self.weight -= learning_rate *dL_dw\n",
        "    self.bias -= learning_rate * dL_db\n",
        "\n",
        "    return dL_d_inp.reshape(self.orig_im_shape)"
      ],
      "metadata": {
        "id": "j9-2OHjP9mWh"
      },
      "execution_count": 49,
      "outputs": []
    },
    {
      "cell_type": "code",
      "source": [
        "sigmoid_layer1 = Sigmoid(784,15)\n",
        "sigmoid_layer2 = Sigmoid(15,15)\n",
        "softmax = Softmax(15, 10)"
      ],
      "metadata": {
        "id": "xH7nQFGF-OLm"
      },
      "execution_count": 50,
      "outputs": []
    },
    {
      "cell_type": "code",
      "source": [
        "#Pobieramy zbior MNIST korzystajac z biblioteki keras\n",
        "from keras.datasets import mnist\n",
        "(X_train, y_train), (X_test, y_test) = mnist.load_data()\n",
        "#bierzemy tylko 1500 pierwszych cyferek bo wolno sie liczy\n",
        "train_images = X_train[:1500]\n",
        "train_labels = y_train[:1500]\n",
        "test_images = X_test[:1500]\n",
        "test_labels = y_test[:1500]"
      ],
      "metadata": {
        "id": "0S8ufrjc-RIK"
      },
      "execution_count": 51,
      "outputs": []
    },
    {
      "cell_type": "code",
      "source": [
        "#rozmiar tablicy przechowujacej cyferke\n",
        "print(train_images.shape)\n",
        "#rozmiar cyferki\n",
        "print(train_images[0].shape)"
      ],
      "metadata": {
        "colab": {
          "base_uri": "https://localhost:8080/"
        },
        "id": "Yn9Wy-_q-oVF",
        "outputId": "397513cd-c9df-4767-c483-2758a142a4d2"
      },
      "execution_count": 52,
      "outputs": [
        {
          "output_type": "stream",
          "name": "stdout",
          "text": [
            "(1500, 28, 28)\n",
            "(28, 28)\n"
          ]
        }
      ]
    },
    {
      "cell_type": "code",
      "source": [
        "#wyswietlamy LOSOWA cyferke z 1500 pierwszych\n",
        "from random import randint\n",
        "numer_obrazka=randint(0,1499)\n",
        "plt.imshow(train_images[numer_obrazka])"
      ],
      "metadata": {
        "colab": {
          "base_uri": "https://localhost:8080/",
          "height": 447
        },
        "id": "vlt2rPct-pti",
        "outputId": "96aeb886-52f8-484e-c52f-603e4e25d66b"
      },
      "execution_count": 53,
      "outputs": [
        {
          "output_type": "execute_result",
          "data": {
            "text/plain": [
              "<matplotlib.image.AxesImage at 0x7dd2f8b599f0>"
            ]
          },
          "metadata": {},
          "execution_count": 53
        },
        {
          "output_type": "display_data",
          "data": {
            "text/plain": [
              "<Figure size 640x480 with 1 Axes>"
            ],
            "image/png": "[encoded data removed]"
          },
          "metadata": {}
        }
      ]
    },
    {
      "cell_type": "code",
      "source": [
        "#splaszczenie obrazka\n",
        "img = train_images[numer_obrazka]\n",
        "img_flattened = np.reshape(img, (img.shape[0]*img.shape[1],1))\n",
        "print(img_flattened.shape)\n",
        "#fragment obrazka\n",
        "plt.imshow(img_flattened[200:215,:])"
      ],
      "metadata": {
        "colab": {
          "base_uri": "https://localhost:8080/",
          "height": 465
        },
        "id": "3fgF1gbP-vXo",
        "outputId": "fb6aacc3-5f4b-4c52-aae0-d5c67201f044"
      },
      "execution_count": 54,
      "outputs": [
        {
          "output_type": "stream",
          "name": "stdout",
          "text": [
            "(784, 1)\n"
          ]
        },
        {
          "output_type": "execute_result",
          "data": {
            "text/plain": [
              "<matplotlib.image.AxesImage at 0x7dd304033ca0>"
            ]
          },
          "metadata": {},
          "execution_count": 54
        },
        {
          "output_type": "display_data",
          "data": {
            "text/plain": [
              "<Figure size 640x480 with 1 Axes>"
            ],
            "image/png": "[encoded data removed]"
          },
          "metadata": {}
        }
      ]
    },
    {
      "cell_type": "code",
      "source": [
        "#przelicz obrazek przez siec NN\n",
        "def forward_prop(image, label):\n",
        "  #splaszczenie\n",
        "  #print(\"rozmiary obrazka oryginalne\")\n",
        "  #print(image.shape)\n",
        "  image = np.reshape(image, (1, img.shape[0]*img.shape[1]))\n",
        "  #print(\"rozmiary obrazka przed wrzuceniem do sieci\")\n",
        "  #print(image.shape)\n",
        "\n",
        "  out_p = sigmoid_layer1.forward_prop((image /255) -0.5) #maly data engineering dla obrazka\n",
        "  out_p = sigmoid_layer2.forward_prop(out_p)\n",
        "  out_p = softmax.forward_prop(out_p)\n",
        "\n",
        "  #calculate cross-entropy loss and accuracy\n",
        "  cross_ent_loss = -np.log(out_p[label])\n",
        "\n",
        "  #sprawdzenie czy rozpoznano prawidlowo obrazek 1/TAK 0/NIE\n",
        "  accuracy_eval = 1 if np.argmax(out_p) == label else 0\n",
        "\n",
        "  return out_p, cross_ent_loss, accuracy_eval"
      ],
      "metadata": {
        "id": "v83pyACq-xc9"
      },
      "execution_count": 55,
      "outputs": []
    },
    {
      "cell_type": "code",
      "source": [
        "#test czy obrazek przejdzie przez siec\n",
        "shuffle_data = np.random.permutation(len(train_images))\n",
        "train_images = train_images[shuffle_data]\n",
        "train_labels = train_labels[shuffle_data]\n",
        "#jaka cyferka wrzucona na wejscie sieci\n",
        "plt.imshow(train_images[0])\n",
        "plt.show()\n",
        "#zaobaczmy co zwraca siec na podany na jej wejsciu obrazek\n",
        "wynik = forward_prop(train_images[0], train_labels[0])\n",
        "print(\"Wartosci na output neuronow warstwy softmax\")\n",
        "print(wynik[0])\n",
        "print(\"Wartosc funkcji kosztu\")\n",
        "print(wynik[1])\n",
        "print(\"Czy poprawnie sklasyfikowano 0 - NIE, 1 - TAK\")\n",
        "print(wynik[2])"
      ],
      "metadata": {
        "colab": {
          "base_uri": "https://localhost:8080/",
          "height": 551
        },
        "id": "jmQqFNy6_HzO",
        "outputId": "7a384529-2712-4353-c8cb-ff38e8e2f819"
      },
      "execution_count": 56,
      "outputs": [
        {
          "output_type": "display_data",
          "data": {
            "text/plain": [
              "<Figure size 640x480 with 1 Axes>"
            ],
            "image/png": "[encoded data removed]"
          },
          "metadata": {}
        },
        {
          "output_type": "stream",
          "name": "stdout",
          "text": [
            "Wartosci na output neuronow warstwy softmax\n",
            "[0.09594415 0.09344548 0.09008642 0.12823686 0.08385226 0.08597603\n",
            " 0.12724179 0.10722676 0.07961683 0.10837342]\n",
            "Wartosc funkcji kosztu\n",
            "2.061666166900581\n",
            "Czy poprawnie sklasyfikowano 0 - NIE, 1 - TAK\n",
            "0\n"
          ]
        }
      ]
    },
    {
      "cell_type": "code",
      "source": [
        "#uczenie sieci\n",
        "def train_nn(image, label, learn_rate =0.005):\n",
        "  #forward\n",
        "  out, loss, acc = forward_prop(image, label)\n",
        "\n",
        "  #calculate ininital gradient\n",
        "  gradient = np.zeros(10)\n",
        "  gradient[label] = -1 / out[label]\n",
        "\n",
        "  #brackprop\n",
        "  grad_back = softmax.back_prop(gradient, learn_rate)\n",
        "  grad_back = sigmoid_layer2.back_prop( grad_back, learn_rate)\n",
        "  grad_back = sigmoid_layer1.back_prop( grad_back, learn_rate)\n",
        "\n",
        "  return loss, acc\n",
        "\n",
        "train_nn(train_images[0], train_labels[0])"
      ],
      "metadata": {
        "colab": {
          "base_uri": "https://localhost:8080/"
        },
        "id": "mcvFHTWb_L-v",
        "outputId": "bfe236ed-9545-4de1-afb7-8a9f73ce1c67"
      },
      "execution_count": 57,
      "outputs": [
        {
          "output_type": "execute_result",
          "data": {
            "text/plain": [
              "(2.061666166900581, 0)"
            ]
          },
          "metadata": {},
          "execution_count": 57
        }
      ]
    },
    {
      "cell_type": "code",
      "source": [
        "#training cnn\n",
        "for epoch1 in range(14):\n",
        "  print('Epoch %d ->'% (epoch1 +1))\n",
        "\n",
        "  #shuffle the training data\n",
        "  shuffle_data = np.random.permutation(len(train_images))\n",
        "  train_images = train_images[shuffle_data]\n",
        "  train_labels = train_labels[shuffle_data]\n",
        "\n",
        "  #training the CNN\n",
        "  loss = 0.0\n",
        "  num_correct = 0\n",
        "\n",
        "  for i, (im, label) in enumerate(zip(train_images, train_labels)):\n",
        "    if i % 100 == 0:\n",
        "      print('%d steps out of 100 steps: Average Loss %.3f and Accuracy: %d%%' %(i+1, loss/100, num_correct))\n",
        "      loss = 0\n",
        "      num_correct = 0\n",
        "    #wrzucamy obrazek do sieci i poprawiamy wagi sieci aby\n",
        "    #siec w kolejnej epoce dla ten obrazek rozpoznala lepiej\n",
        "\n",
        "\n",
        "    l1, accu = train_nn(im, label)\n",
        "    loss += l1\n",
        "\n",
        "    num_correct +=accu"
      ],
      "metadata": {
        "colab": {
          "base_uri": "https://localhost:8080/"
        },
        "id": "nEM9-khgCQg8",
        "outputId": "a85e80db-bbaa-4403-a5c7-71a307706d24"
      },
      "execution_count": 60,
      "outputs": [
        {
          "output_type": "stream",
          "name": "stdout",
          "text": [
            "Epoch 1 ->\n",
            "1 steps out of 100 steps: Average Loss 0.000 and Accuracy: 0%\n",
            "101 steps out of 100 steps: Average Loss 2.133 and Accuracy: 30%\n",
            "201 steps out of 100 steps: Average Loss 2.106 and Accuracy: 35%\n",
            "301 steps out of 100 steps: Average Loss 2.175 and Accuracy: 24%\n",
            "401 steps out of 100 steps: Average Loss 2.044 and Accuracy: 35%\n",
            "501 steps out of 100 steps: Average Loss 2.120 and Accuracy: 32%\n",
            "601 steps out of 100 steps: Average Loss 2.104 and Accuracy: 31%\n",
            "701 steps out of 100 steps: Average Loss 2.140 and Accuracy: 28%\n",
            "801 steps out of 100 steps: Average Loss 2.142 and Accuracy: 24%\n",
            "901 steps out of 100 steps: Average Loss 2.181 and Accuracy: 24%\n",
            "1001 steps out of 100 steps: Average Loss 2.141 and Accuracy: 28%\n",
            "1101 steps out of 100 steps: Average Loss 2.100 and Accuracy: 26%\n",
            "1201 steps out of 100 steps: Average Loss 2.072 and Accuracy: 35%\n",
            "1301 steps out of 100 steps: Average Loss 2.074 and Accuracy: 38%\n",
            "1401 steps out of 100 steps: Average Loss 2.112 and Accuracy: 30%\n",
            "Epoch 2 ->\n",
            "1 steps out of 100 steps: Average Loss 0.000 and Accuracy: 0%\n",
            "101 steps out of 100 steps: Average Loss 2.080 and Accuracy: 34%\n",
            "201 steps out of 100 steps: Average Loss 2.090 and Accuracy: 34%\n",
            "301 steps out of 100 steps: Average Loss 2.107 and Accuracy: 31%\n",
            "401 steps out of 100 steps: Average Loss 2.125 and Accuracy: 25%\n",
            "501 steps out of 100 steps: Average Loss 2.122 and Accuracy: 21%\n",
            "601 steps out of 100 steps: Average Loss 2.054 and Accuracy: 40%\n",
            "701 steps out of 100 steps: Average Loss 2.081 and Accuracy: 28%\n",
            "801 steps out of 100 steps: Average Loss 2.075 and Accuracy: 30%\n",
            "901 steps out of 100 steps: Average Loss 2.049 and Accuracy: 34%\n",
            "1001 steps out of 100 steps: Average Loss 2.073 and Accuracy: 29%\n",
            "1101 steps out of 100 steps: Average Loss 1.988 and Accuracy: 42%\n",
            "1201 steps out of 100 steps: Average Loss 1.996 and Accuracy: 38%\n",
            "1301 steps out of 100 steps: Average Loss 2.143 and Accuracy: 25%\n",
            "1401 steps out of 100 steps: Average Loss 1.975 and Accuracy: 42%\n",
            "Epoch 3 ->\n",
            "1 steps out of 100 steps: Average Loss 0.000 and Accuracy: 0%\n",
            "101 steps out of 100 steps: Average Loss 2.030 and Accuracy: 30%\n",
            "201 steps out of 100 steps: Average Loss 2.005 and Accuracy: 36%\n",
            "301 steps out of 100 steps: Average Loss 2.040 and Accuracy: 33%\n",
            "401 steps out of 100 steps: Average Loss 1.980 and Accuracy: 38%\n",
            "501 steps out of 100 steps: Average Loss 2.081 and Accuracy: 23%\n",
            "601 steps out of 100 steps: Average Loss 1.942 and Accuracy: 45%\n",
            "701 steps out of 100 steps: Average Loss 1.947 and Accuracy: 42%\n",
            "801 steps out of 100 steps: Average Loss 2.040 and Accuracy: 29%\n",
            "901 steps out of 100 steps: Average Loss 2.047 and Accuracy: 35%\n",
            "1001 steps out of 100 steps: Average Loss 2.060 and Accuracy: 34%\n",
            "1101 steps out of 100 steps: Average Loss 2.036 and Accuracy: 32%\n",
            "1201 steps out of 100 steps: Average Loss 2.044 and Accuracy: 34%\n",
            "1301 steps out of 100 steps: Average Loss 1.955 and Accuracy: 40%\n",
            "1401 steps out of 100 steps: Average Loss 1.977 and Accuracy: 35%\n",
            "Epoch 4 ->\n",
            "1 steps out of 100 steps: Average Loss 0.000 and Accuracy: 0%\n",
            "101 steps out of 100 steps: Average Loss 2.073 and Accuracy: 30%\n",
            "201 steps out of 100 steps: Average Loss 1.917 and Accuracy: 39%\n",
            "301 steps out of 100 steps: Average Loss 1.938 and Accuracy: 41%\n",
            "401 steps out of 100 steps: Average Loss 1.966 and Accuracy: 36%\n",
            "501 steps out of 100 steps: Average Loss 1.927 and Accuracy: 46%\n",
            "601 steps out of 100 steps: Average Loss 1.961 and Accuracy: 39%\n",
            "701 steps out of 100 steps: Average Loss 1.924 and Accuracy: 42%\n",
            "801 steps out of 100 steps: Average Loss 1.959 and Accuracy: 38%\n",
            "901 steps out of 100 steps: Average Loss 1.934 and Accuracy: 41%\n",
            "1001 steps out of 100 steps: Average Loss 1.920 and Accuracy: 39%\n",
            "1101 steps out of 100 steps: Average Loss 1.922 and Accuracy: 42%\n",
            "1201 steps out of 100 steps: Average Loss 1.987 and Accuracy: 36%\n",
            "1301 steps out of 100 steps: Average Loss 1.893 and Accuracy: 41%\n",
            "1401 steps out of 100 steps: Average Loss 1.987 and Accuracy: 29%\n",
            "Epoch 5 ->\n",
            "1 steps out of 100 steps: Average Loss 0.000 and Accuracy: 0%\n",
            "101 steps out of 100 steps: Average Loss 1.880 and Accuracy: 44%\n",
            "201 steps out of 100 steps: Average Loss 1.884 and Accuracy: 47%\n",
            "301 steps out of 100 steps: Average Loss 1.929 and Accuracy: 36%\n",
            "401 steps out of 100 steps: Average Loss 1.883 and Accuracy: 45%\n",
            "501 steps out of 100 steps: Average Loss 1.832 and Accuracy: 39%\n",
            "601 steps out of 100 steps: Average Loss 1.904 and Accuracy: 38%\n",
            "701 steps out of 100 steps: Average Loss 1.849 and Accuracy: 43%\n",
            "801 steps out of 100 steps: Average Loss 1.842 and Accuracy: 42%\n",
            "901 steps out of 100 steps: Average Loss 1.825 and Accuracy: 42%\n",
            "1001 steps out of 100 steps: Average Loss 1.865 and Accuracy: 46%\n",
            "1101 steps out of 100 steps: Average Loss 1.917 and Accuracy: 39%\n",
            "1201 steps out of 100 steps: Average Loss 1.962 and Accuracy: 35%\n",
            "1301 steps out of 100 steps: Average Loss 1.908 and Accuracy: 38%\n",
            "1401 steps out of 100 steps: Average Loss 1.861 and Accuracy: 45%\n",
            "Epoch 6 ->\n",
            "1 steps out of 100 steps: Average Loss 0.000 and Accuracy: 0%\n",
            "101 steps out of 100 steps: Average Loss 1.880 and Accuracy: 40%\n",
            "201 steps out of 100 steps: Average Loss 1.863 and Accuracy: 41%\n",
            "301 steps out of 100 steps: Average Loss 1.807 and Accuracy: 44%\n",
            "401 steps out of 100 steps: Average Loss 1.648 and Accuracy: 56%\n",
            "501 steps out of 100 steps: Average Loss 1.856 and Accuracy: 39%\n",
            "601 steps out of 100 steps: Average Loss 1.822 and Accuracy: 40%\n",
            "701 steps out of 100 steps: Average Loss 1.838 and Accuracy: 39%\n",
            "801 steps out of 100 steps: Average Loss 1.852 and Accuracy: 41%\n",
            "901 steps out of 100 steps: Average Loss 1.867 and Accuracy: 45%\n",
            "1001 steps out of 100 steps: Average Loss 1.855 and Accuracy: 36%\n",
            "1101 steps out of 100 steps: Average Loss 1.752 and Accuracy: 51%\n",
            "1201 steps out of 100 steps: Average Loss 1.880 and Accuracy: 36%\n",
            "1301 steps out of 100 steps: Average Loss 1.711 and Accuracy: 51%\n",
            "1401 steps out of 100 steps: Average Loss 1.682 and Accuracy: 55%\n",
            "Epoch 7 ->\n",
            "1 steps out of 100 steps: Average Loss 0.000 and Accuracy: 0%\n",
            "101 steps out of 100 steps: Average Loss 1.713 and Accuracy: 51%\n",
            "201 steps out of 100 steps: Average Loss 1.842 and Accuracy: 39%\n",
            "301 steps out of 100 steps: Average Loss 1.830 and Accuracy: 40%\n",
            "401 steps out of 100 steps: Average Loss 1.799 and Accuracy: 46%\n",
            "501 steps out of 100 steps: Average Loss 1.795 and Accuracy: 46%\n",
            "601 steps out of 100 steps: Average Loss 1.673 and Accuracy: 54%\n",
            "701 steps out of 100 steps: Average Loss 1.733 and Accuracy: 45%\n",
            "801 steps out of 100 steps: Average Loss 1.720 and Accuracy: 51%\n",
            "901 steps out of 100 steps: Average Loss 1.711 and Accuracy: 51%\n",
            "1001 steps out of 100 steps: Average Loss 1.711 and Accuracy: 50%\n",
            "1101 steps out of 100 steps: Average Loss 1.708 and Accuracy: 45%\n",
            "1201 steps out of 100 steps: Average Loss 1.750 and Accuracy: 50%\n",
            "1301 steps out of 100 steps: Average Loss 1.745 and Accuracy: 45%\n",
            "1401 steps out of 100 steps: Average Loss 1.747 and Accuracy: 50%\n",
            "Epoch 8 ->\n",
            "1 steps out of 100 steps: Average Loss 0.000 and Accuracy: 0%\n",
            "101 steps out of 100 steps: Average Loss 1.674 and Accuracy: 52%\n",
            "201 steps out of 100 steps: Average Loss 1.739 and Accuracy: 47%\n",
            "301 steps out of 100 steps: Average Loss 1.761 and Accuracy: 47%\n",
            "401 steps out of 100 steps: Average Loss 1.693 and Accuracy: 50%\n",
            "501 steps out of 100 steps: Average Loss 1.672 and Accuracy: 51%\n",
            "601 steps out of 100 steps: Average Loss 1.658 and Accuracy: 53%\n",
            "701 steps out of 100 steps: Average Loss 1.587 and Accuracy: 54%\n",
            "801 steps out of 100 steps: Average Loss 1.647 and Accuracy: 52%\n",
            "901 steps out of 100 steps: Average Loss 1.689 and Accuracy: 47%\n",
            "1001 steps out of 100 steps: Average Loss 1.728 and Accuracy: 41%\n",
            "1101 steps out of 100 steps: Average Loss 1.558 and Accuracy: 59%\n",
            "1201 steps out of 100 steps: Average Loss 1.656 and Accuracy: 49%\n",
            "1301 steps out of 100 steps: Average Loss 1.595 and Accuracy: 50%\n",
            "1401 steps out of 100 steps: Average Loss 1.781 and Accuracy: 37%\n",
            "Epoch 9 ->\n",
            "1 steps out of 100 steps: Average Loss 0.000 and Accuracy: 0%\n",
            "101 steps out of 100 steps: Average Loss 1.531 and Accuracy: 59%\n",
            "201 steps out of 100 steps: Average Loss 1.665 and Accuracy: 48%\n",
            "301 steps out of 100 steps: Average Loss 1.630 and Accuracy: 51%\n",
            "401 steps out of 100 steps: Average Loss 1.613 and Accuracy: 47%\n",
            "501 steps out of 100 steps: Average Loss 1.529 and Accuracy: 56%\n",
            "601 steps out of 100 steps: Average Loss 1.688 and Accuracy: 43%\n",
            "701 steps out of 100 steps: Average Loss 1.504 and Accuracy: 52%\n",
            "801 steps out of 100 steps: Average Loss 1.600 and Accuracy: 49%\n",
            "901 steps out of 100 steps: Average Loss 1.592 and Accuracy: 52%\n",
            "1001 steps out of 100 steps: Average Loss 1.652 and Accuracy: 52%\n",
            "1101 steps out of 100 steps: Average Loss 1.522 and Accuracy: 56%\n",
            "1201 steps out of 100 steps: Average Loss 1.692 and Accuracy: 48%\n",
            "1301 steps out of 100 steps: Average Loss 1.628 and Accuracy: 56%\n",
            "1401 steps out of 100 steps: Average Loss 1.600 and Accuracy: 50%\n",
            "Epoch 10 ->\n",
            "1 steps out of 100 steps: Average Loss 0.000 and Accuracy: 0%\n",
            "101 steps out of 100 steps: Average Loss 1.554 and Accuracy: 55%\n",
            "201 steps out of 100 steps: Average Loss 1.626 and Accuracy: 51%\n",
            "301 steps out of 100 steps: Average Loss 1.538 and Accuracy: 57%\n",
            "401 steps out of 100 steps: Average Loss 1.580 and Accuracy: 59%\n",
            "501 steps out of 100 steps: Average Loss 1.497 and Accuracy: 59%\n",
            "601 steps out of 100 steps: Average Loss 1.619 and Accuracy: 52%\n",
            "701 steps out of 100 steps: Average Loss 1.656 and Accuracy: 47%\n",
            "801 steps out of 100 steps: Average Loss 1.457 and Accuracy: 60%\n",
            "901 steps out of 100 steps: Average Loss 1.592 and Accuracy: 50%\n",
            "1001 steps out of 100 steps: Average Loss 1.503 and Accuracy: 51%\n",
            "1101 steps out of 100 steps: Average Loss 1.516 and Accuracy: 53%\n",
            "1201 steps out of 100 steps: Average Loss 1.495 and Accuracy: 56%\n",
            "1301 steps out of 100 steps: Average Loss 1.454 and Accuracy: 54%\n",
            "1401 steps out of 100 steps: Average Loss 1.668 and Accuracy: 46%\n",
            "Epoch 11 ->\n",
            "1 steps out of 100 steps: Average Loss 0.000 and Accuracy: 0%\n",
            "101 steps out of 100 steps: Average Loss 1.487 and Accuracy: 53%\n",
            "201 steps out of 100 steps: Average Loss 1.608 and Accuracy: 49%\n",
            "301 steps out of 100 steps: Average Loss 1.442 and Accuracy: 56%\n",
            "401 steps out of 100 steps: Average Loss 1.455 and Accuracy: 55%\n",
            "501 steps out of 100 steps: Average Loss 1.611 and Accuracy: 50%\n",
            "601 steps out of 100 steps: Average Loss 1.440 and Accuracy: 53%\n",
            "701 steps out of 100 steps: Average Loss 1.574 and Accuracy: 49%\n",
            "801 steps out of 100 steps: Average Loss 1.437 and Accuracy: 65%\n",
            "901 steps out of 100 steps: Average Loss 1.383 and Accuracy: 67%\n",
            "1001 steps out of 100 steps: Average Loss 1.540 and Accuracy: 50%\n",
            "1101 steps out of 100 steps: Average Loss 1.554 and Accuracy: 49%\n",
            "1201 steps out of 100 steps: Average Loss 1.555 and Accuracy: 48%\n",
            "1301 steps out of 100 steps: Average Loss 1.483 and Accuracy: 54%\n",
            "1401 steps out of 100 steps: Average Loss 1.606 and Accuracy: 51%\n",
            "Epoch 12 ->\n",
            "1 steps out of 100 steps: Average Loss 0.000 and Accuracy: 0%\n",
            "101 steps out of 100 steps: Average Loss 1.507 and Accuracy: 50%\n",
            "201 steps out of 100 steps: Average Loss 1.575 and Accuracy: 45%\n",
            "301 steps out of 100 steps: Average Loss 1.363 and Accuracy: 56%\n",
            "401 steps out of 100 steps: Average Loss 1.583 and Accuracy: 54%\n",
            "501 steps out of 100 steps: Average Loss 1.586 and Accuracy: 46%\n",
            "601 steps out of 100 steps: Average Loss 1.429 and Accuracy: 56%\n",
            "701 steps out of 100 steps: Average Loss 1.436 and Accuracy: 60%\n",
            "801 steps out of 100 steps: Average Loss 1.477 and Accuracy: 51%\n",
            "901 steps out of 100 steps: Average Loss 1.444 and Accuracy: 56%\n",
            "1001 steps out of 100 steps: Average Loss 1.350 and Accuracy: 61%\n",
            "1101 steps out of 100 steps: Average Loss 1.446 and Accuracy: 52%\n",
            "1201 steps out of 100 steps: Average Loss 1.427 and Accuracy: 55%\n",
            "1301 steps out of 100 steps: Average Loss 1.311 and Accuracy: 67%\n",
            "1401 steps out of 100 steps: Average Loss 1.371 and Accuracy: 65%\n",
            "Epoch 13 ->\n",
            "1 steps out of 100 steps: Average Loss 0.000 and Accuracy: 0%\n",
            "101 steps out of 100 steps: Average Loss 1.537 and Accuracy: 52%\n",
            "201 steps out of 100 steps: Average Loss 1.402 and Accuracy: 52%\n",
            "301 steps out of 100 steps: Average Loss 1.401 and Accuracy: 56%\n",
            "401 steps out of 100 steps: Average Loss 1.321 and Accuracy: 55%\n",
            "501 steps out of 100 steps: Average Loss 1.423 and Accuracy: 58%\n",
            "601 steps out of 100 steps: Average Loss 1.392 and Accuracy: 57%\n",
            "701 steps out of 100 steps: Average Loss 1.385 and Accuracy: 54%\n",
            "801 steps out of 100 steps: Average Loss 1.559 and Accuracy: 55%\n",
            "901 steps out of 100 steps: Average Loss 1.389 and Accuracy: 56%\n",
            "1001 steps out of 100 steps: Average Loss 1.268 and Accuracy: 65%\n",
            "1101 steps out of 100 steps: Average Loss 1.399 and Accuracy: 54%\n",
            "1201 steps out of 100 steps: Average Loss 1.451 and Accuracy: 47%\n",
            "1301 steps out of 100 steps: Average Loss 1.455 and Accuracy: 53%\n",
            "1401 steps out of 100 steps: Average Loss 1.325 and Accuracy: 57%\n",
            "Epoch 14 ->\n",
            "1 steps out of 100 steps: Average Loss 0.000 and Accuracy: 0%\n",
            "101 steps out of 100 steps: Average Loss 1.447 and Accuracy: 52%\n",
            "201 steps out of 100 steps: Average Loss 1.302 and Accuracy: 59%\n",
            "301 steps out of 100 steps: Average Loss 1.487 and Accuracy: 52%\n",
            "401 steps out of 100 steps: Average Loss 1.293 and Accuracy: 53%\n",
            "501 steps out of 100 steps: Average Loss 1.281 and Accuracy: 64%\n",
            "601 steps out of 100 steps: Average Loss 1.413 and Accuracy: 55%\n",
            "701 steps out of 100 steps: Average Loss 1.419 and Accuracy: 54%\n",
            "801 steps out of 100 steps: Average Loss 1.389 and Accuracy: 58%\n",
            "901 steps out of 100 steps: Average Loss 1.423 and Accuracy: 55%\n",
            "1001 steps out of 100 steps: Average Loss 1.302 and Accuracy: 63%\n",
            "1101 steps out of 100 steps: Average Loss 1.316 and Accuracy: 57%\n",
            "1201 steps out of 100 steps: Average Loss 1.362 and Accuracy: 58%\n",
            "1301 steps out of 100 steps: Average Loss 1.389 and Accuracy: 58%\n",
            "1401 steps out of 100 steps: Average Loss 1.388 and Accuracy: 54%\n"
          ]
        }
      ]
    },
    {
      "cell_type": "code",
      "source": [
        "#testing the accuracy of cnn\n",
        "\n",
        "print('**testing phase')\n",
        "loss = 0\n",
        "num_correct = 0\n",
        "\n",
        "for im, label in zip(test_images, test_labels):\n",
        "  _, l1, accu = forward_prop(im, label)\n",
        "  loss += l1\n",
        "  num_correct += accu\n",
        "\n",
        "num_test = len(test_images)\n",
        "print('Test Loss:', loss /num_test)\n",
        "print('Test accuracy:', num_correct / num_test)"
      ],
      "metadata": {
        "colab": {
          "base_uri": "https://localhost:8080/"
        },
        "id": "ZZaGSfhNDuQE",
        "outputId": "c3a7b873-8200-4135-866c-7ee68639e07e"
      },
      "execution_count": 61,
      "outputs": [
        {
          "output_type": "stream",
          "name": "stdout",
          "text": [
            "**testing phase\n",
            "Test Loss: 1.5648429453308836\n",
            "Test accuracy: 0.4786666666666667\n"
          ]
        }
      ]
    },
    {
      "cell_type": "code",
      "source": [
        "plt.plot()\n",
        "plt.plot()\n",
        "plt.legend(labels=['Train','Validation'])\n",
        "plt.show()"
      ],
      "metadata": {
        "colab": {
          "base_uri": "https://localhost:8080/",
          "height": 430
        },
        "id": "JPmIwFgsGIGs",
        "outputId": "08d8c519-c5f6-45ca-dd09-b11f0f120b71"
      },
      "execution_count": 64,
      "outputs": [
        {
          "output_type": "display_data",
          "data": {
            "text/plain": [
              "<Figure size 640x480 with 1 Axes>"
            ],
            "image/png": "[encoded data removed]"
          },
          "metadata": {}
        }
      ]
    }
  ]
}